{
 "cells": [
  {
   "cell_type": "markdown",
   "metadata": {},
   "source": [
    "# Music Classification with Imbalanced Data"
   ]
  },
  {
   "cell_type": "markdown",
   "metadata": {},
   "source": [
    "## Introduction\n",
    "\n",
    "In this project, we use a music dataset, collected by a research group at [The Echo Nest](https://en.wikipedia.org/wiki/The_Echo_Nest) (now a part of [Spotify](https://en.wikipedia.org/wiki/Spotify)) to classify music genres without listening to the songs. This sort of classification, for example, allows for personalized song recommendations by streaming services. \n",
    "\n",
    "The dataset files, accompanied by this notebook, are the following:\n",
    "\n",
    "- `\"fma-rock-vs-hiphop.csv\"`\n",
    "- `\"echonest-metrics.json\"`\n",
    "\n",
    "The dataset has musical features of each track such as `danceability` and `acousticness` on a scale from -1 to 1. We start by a few data preprocessing tasks followed by implementation of some of the scikit-learn's classification algorithms to predict whether we can correctly classify a song's genre based on features such as acousticness, energy, danceability, tempo, etc. \n",
    "\n",
    "Remarks: This project is an extended version of Datacamp's project on classifying song, available [here](https://www.datacamp.com/projects/449). I have avoided applying PCA in the following. \n",
    "\n",
    "### Setup"
   ]
  },
  {
   "cell_type": "code",
   "execution_count": 1,
   "metadata": {},
   "outputs": [],
   "source": [
    "import pandas as pd\n",
    "import numpy as np\n",
    "import matplotlib.pyplot as plt\n",
    "import seaborn as sns\n",
    "\n",
    "# from google.colab import files\n",
    "# import io\n",
    "import time\n",
    "\n",
    "from sklearn.preprocessing import StandardScaler, LabelEncoder\n",
    "from sklearn.linear_model import LogisticRegression, RidgeClassifier\n",
    "from sklearn.tree import DecisionTreeClassifier\n",
    "from sklearn.ensemble import (RandomForestClassifier,\n",
    "                              GradientBoostingClassifier)\n",
    "from sklearn.neighbors import KNeighborsClassifier\n",
    "from sklearn.svm import SVC\n",
    "\n",
    "from sklearn.metrics import accuracy_score\n",
    "from sklearn.metrics import classification_report\n",
    "from sklearn.metrics import roc_auc_score, plot_confusion_matrix\n",
    "\n",
    "from imblearn.over_sampling import SMOTE\n",
    "from imblearn.under_sampling import RandomUnderSampler\n",
    "from imblearn.pipeline import Pipeline\n",
    "from sklearn.model_selection import (train_test_split, GridSearchCV,\n",
    "                                     cross_val_score, KFold,\n",
    "                                     RepeatedStratifiedKFold)\n",
    "\n",
    "# from keras.models import Sequential\n",
    "# from keras.layers import Dense, Activation, Dropout\n",
    "# from keras.wrappers.scikit_learn import KerasClassifier\n",
    "# from keras.utils import np_utils"
   ]
  },
  {
   "cell_type": "markdown",
   "metadata": {
    "dc": {
     "key": "3"
    },
    "run_control": {
     "frozen": false
    },
    "tags": [
     "context"
    ]
   },
   "source": [
    "## Basic Insight of Data\n",
    "\n",
    "Let's first load the data which comes in two different formats:\n",
    "\n",
    "- `csv` file including the music tracks metadata (title, artist, and number of listens) with genre `labels`\n",
    "- `json` file including musical `features` of each track such as `danceability` and `acousticness`. \n",
    "\n",
    "We create two dataframes and merge them together so that we have features (X) and labels (y) in one dataframe."
   ]
  },
  {
   "cell_type": "code",
   "execution_count": 2,
   "metadata": {
    "dc": {
     "key": "3"
    },
    "scrolled": false,
    "tags": [
     "sample_code"
    ]
   },
   "outputs": [
    {
     "name": "stdout",
     "output_type": "stream",
     "text": [
      "The dataframe has 4802 data points and 10 variables.\n"
     ]
    },
    {
     "data": {
      "text/html": [
       "<div>\n",
       "<style scoped>\n",
       "    .dataframe tbody tr th:only-of-type {\n",
       "        vertical-align: middle;\n",
       "    }\n",
       "\n",
       "    .dataframe tbody tr th {\n",
       "        vertical-align: top;\n",
       "    }\n",
       "\n",
       "    .dataframe thead th {\n",
       "        text-align: right;\n",
       "    }\n",
       "</style>\n",
       "<table border=\"1\" class=\"dataframe\">\n",
       "  <thead>\n",
       "    <tr style=\"text-align: right;\">\n",
       "      <th></th>\n",
       "      <th>track_id</th>\n",
       "      <th>acousticness</th>\n",
       "      <th>danceability</th>\n",
       "      <th>energy</th>\n",
       "      <th>instrumentalness</th>\n",
       "      <th>liveness</th>\n",
       "      <th>speechiness</th>\n",
       "      <th>tempo</th>\n",
       "      <th>valence</th>\n",
       "      <th>genre_top</th>\n",
       "    </tr>\n",
       "  </thead>\n",
       "  <tbody>\n",
       "    <tr>\n",
       "      <th>0</th>\n",
       "      <td>2</td>\n",
       "      <td>0.416675</td>\n",
       "      <td>0.675894</td>\n",
       "      <td>0.634476</td>\n",
       "      <td>0.010628</td>\n",
       "      <td>0.177647</td>\n",
       "      <td>0.159310</td>\n",
       "      <td>165.922</td>\n",
       "      <td>0.576661</td>\n",
       "      <td>Hip-Hop</td>\n",
       "    </tr>\n",
       "    <tr>\n",
       "      <th>1</th>\n",
       "      <td>3</td>\n",
       "      <td>0.374408</td>\n",
       "      <td>0.528643</td>\n",
       "      <td>0.817461</td>\n",
       "      <td>0.001851</td>\n",
       "      <td>0.105880</td>\n",
       "      <td>0.461818</td>\n",
       "      <td>126.957</td>\n",
       "      <td>0.269240</td>\n",
       "      <td>Hip-Hop</td>\n",
       "    </tr>\n",
       "    <tr>\n",
       "      <th>2</th>\n",
       "      <td>5</td>\n",
       "      <td>0.043567</td>\n",
       "      <td>0.745566</td>\n",
       "      <td>0.701470</td>\n",
       "      <td>0.000697</td>\n",
       "      <td>0.373143</td>\n",
       "      <td>0.124595</td>\n",
       "      <td>100.260</td>\n",
       "      <td>0.621661</td>\n",
       "      <td>Hip-Hop</td>\n",
       "    </tr>\n",
       "    <tr>\n",
       "      <th>3</th>\n",
       "      <td>134</td>\n",
       "      <td>0.452217</td>\n",
       "      <td>0.513238</td>\n",
       "      <td>0.560410</td>\n",
       "      <td>0.019443</td>\n",
       "      <td>0.096567</td>\n",
       "      <td>0.525519</td>\n",
       "      <td>114.290</td>\n",
       "      <td>0.894072</td>\n",
       "      <td>Hip-Hop</td>\n",
       "    </tr>\n",
       "    <tr>\n",
       "      <th>4</th>\n",
       "      <td>153</td>\n",
       "      <td>0.988306</td>\n",
       "      <td>0.255661</td>\n",
       "      <td>0.979774</td>\n",
       "      <td>0.973006</td>\n",
       "      <td>0.121342</td>\n",
       "      <td>0.051740</td>\n",
       "      <td>90.241</td>\n",
       "      <td>0.034018</td>\n",
       "      <td>Rock</td>\n",
       "    </tr>\n",
       "  </tbody>\n",
       "</table>\n",
       "</div>"
      ],
      "text/plain": [
       "   track_id  acousticness  danceability    energy  instrumentalness  liveness  \\\n",
       "0         2      0.416675      0.675894  0.634476          0.010628  0.177647   \n",
       "1         3      0.374408      0.528643  0.817461          0.001851  0.105880   \n",
       "2         5      0.043567      0.745566  0.701470          0.000697  0.373143   \n",
       "3       134      0.452217      0.513238  0.560410          0.019443  0.096567   \n",
       "4       153      0.988306      0.255661  0.979774          0.973006  0.121342   \n",
       "\n",
       "   speechiness    tempo   valence genre_top  \n",
       "0     0.159310  165.922  0.576661   Hip-Hop  \n",
       "1     0.461818  126.957  0.269240   Hip-Hop  \n",
       "2     0.124595  100.260  0.621661   Hip-Hop  \n",
       "3     0.525519  114.290  0.894072   Hip-Hop  \n",
       "4     0.051740   90.241  0.034018      Rock  "
      ]
     },
     "execution_count": 2,
     "metadata": {},
     "output_type": "execute_result"
    }
   ],
   "source": [
    "# read in track metadata with genre labels\n",
    "tracks = pd.read_csv(\"fma-rock-vs-hiphop.csv\")\n",
    "\n",
    "# read in track metrics with the features\n",
    "echonest_metrics = pd.read_json(\"echonest-metrics.json\",\n",
    "                                precise_float = True)\n",
    "\n",
    "# merge the relevant columns of tracks and echonest_metrics\n",
    "echo_tracks = echonest_metrics.merge(\n",
    "                tracks[[\"track_id\", \"genre_top\"]],\n",
    "                on = \"track_id\")\n",
    "\n",
    "print(\"The dataframe has {} data points and {} variables.\"\n",
    "      .format(* echo_tracks.shape))\n",
    "\n",
    "# inspect the dataframe\n",
    "echo_tracks.head()"
   ]
  },
  {
   "cell_type": "code",
   "execution_count": 3,
   "metadata": {
    "scrolled": false
   },
   "outputs": [
    {
     "name": "stdout",
     "output_type": "stream",
     "text": [
      "<class 'pandas.core.frame.DataFrame'>\n",
      "Int64Index: 4802 entries, 0 to 4801\n",
      "Data columns (total 10 columns):\n",
      " #   Column            Non-Null Count  Dtype  \n",
      "---  ------            --------------  -----  \n",
      " 0   track_id          4802 non-null   int64  \n",
      " 1   acousticness      4802 non-null   float64\n",
      " 2   danceability      4802 non-null   float64\n",
      " 3   energy            4802 non-null   float64\n",
      " 4   instrumentalness  4802 non-null   float64\n",
      " 5   liveness          4802 non-null   float64\n",
      " 6   speechiness       4802 non-null   float64\n",
      " 7   tempo             4802 non-null   float64\n",
      " 8   valence           4802 non-null   float64\n",
      " 9   genre_top         4802 non-null   object \n",
      "dtypes: float64(8), int64(1), object(1)\n",
      "memory usage: 412.7+ KB\n"
     ]
    }
   ],
   "source": [
    "# inspect the datatypes\n",
    "echo_tracks.info()"
   ]
  },
  {
   "cell_type": "markdown",
   "metadata": {},
   "source": [
    "### A quick statistical summary"
   ]
  },
  {
   "cell_type": "code",
   "execution_count": 4,
   "metadata": {
    "scrolled": true
   },
   "outputs": [
    {
     "data": {
      "text/html": [
       "<div>\n",
       "<style scoped>\n",
       "    .dataframe tbody tr th:only-of-type {\n",
       "        vertical-align: middle;\n",
       "    }\n",
       "\n",
       "    .dataframe tbody tr th {\n",
       "        vertical-align: top;\n",
       "    }\n",
       "\n",
       "    .dataframe thead th {\n",
       "        text-align: right;\n",
       "    }\n",
       "</style>\n",
       "<table border=\"1\" class=\"dataframe\">\n",
       "  <thead>\n",
       "    <tr style=\"text-align: right;\">\n",
       "      <th></th>\n",
       "      <th>track_id</th>\n",
       "      <th>acousticness</th>\n",
       "      <th>danceability</th>\n",
       "      <th>energy</th>\n",
       "      <th>instrumentalness</th>\n",
       "      <th>liveness</th>\n",
       "      <th>speechiness</th>\n",
       "      <th>tempo</th>\n",
       "      <th>valence</th>\n",
       "    </tr>\n",
       "  </thead>\n",
       "  <tbody>\n",
       "    <tr>\n",
       "      <th>count</th>\n",
       "      <td>4802.00</td>\n",
       "      <td>4802.00</td>\n",
       "      <td>4802.00</td>\n",
       "      <td>4802.00</td>\n",
       "      <td>4802.00</td>\n",
       "      <td>4802.00</td>\n",
       "      <td>4802.00</td>\n",
       "      <td>4802.00</td>\n",
       "      <td>4802.00</td>\n",
       "    </tr>\n",
       "    <tr>\n",
       "      <th>mean</th>\n",
       "      <td>30164.87</td>\n",
       "      <td>0.49</td>\n",
       "      <td>0.44</td>\n",
       "      <td>0.63</td>\n",
       "      <td>0.60</td>\n",
       "      <td>0.19</td>\n",
       "      <td>0.10</td>\n",
       "      <td>126.69</td>\n",
       "      <td>0.45</td>\n",
       "    </tr>\n",
       "    <tr>\n",
       "      <th>std</th>\n",
       "      <td>28592.01</td>\n",
       "      <td>0.37</td>\n",
       "      <td>0.18</td>\n",
       "      <td>0.24</td>\n",
       "      <td>0.38</td>\n",
       "      <td>0.15</td>\n",
       "      <td>0.15</td>\n",
       "      <td>34.00</td>\n",
       "      <td>0.27</td>\n",
       "    </tr>\n",
       "    <tr>\n",
       "      <th>min</th>\n",
       "      <td>2.00</td>\n",
       "      <td>0.00</td>\n",
       "      <td>0.05</td>\n",
       "      <td>0.00</td>\n",
       "      <td>0.00</td>\n",
       "      <td>0.03</td>\n",
       "      <td>0.02</td>\n",
       "      <td>29.09</td>\n",
       "      <td>0.01</td>\n",
       "    </tr>\n",
       "    <tr>\n",
       "      <th>25%</th>\n",
       "      <td>7494.25</td>\n",
       "      <td>0.08</td>\n",
       "      <td>0.30</td>\n",
       "      <td>0.45</td>\n",
       "      <td>0.16</td>\n",
       "      <td>0.10</td>\n",
       "      <td>0.04</td>\n",
       "      <td>98.00</td>\n",
       "      <td>0.22</td>\n",
       "    </tr>\n",
       "    <tr>\n",
       "      <th>50%</th>\n",
       "      <td>20723.50</td>\n",
       "      <td>0.52</td>\n",
       "      <td>0.42</td>\n",
       "      <td>0.65</td>\n",
       "      <td>0.81</td>\n",
       "      <td>0.12</td>\n",
       "      <td>0.05</td>\n",
       "      <td>124.63</td>\n",
       "      <td>0.45</td>\n",
       "    </tr>\n",
       "    <tr>\n",
       "      <th>75%</th>\n",
       "      <td>44240.75</td>\n",
       "      <td>0.86</td>\n",
       "      <td>0.57</td>\n",
       "      <td>0.84</td>\n",
       "      <td>0.92</td>\n",
       "      <td>0.22</td>\n",
       "      <td>0.09</td>\n",
       "      <td>151.45</td>\n",
       "      <td>0.67</td>\n",
       "    </tr>\n",
       "    <tr>\n",
       "      <th>max</th>\n",
       "      <td>124722.00</td>\n",
       "      <td>1.00</td>\n",
       "      <td>0.96</td>\n",
       "      <td>1.00</td>\n",
       "      <td>0.99</td>\n",
       "      <td>0.97</td>\n",
       "      <td>0.97</td>\n",
       "      <td>250.06</td>\n",
       "      <td>0.98</td>\n",
       "    </tr>\n",
       "  </tbody>\n",
       "</table>\n",
       "</div>"
      ],
      "text/plain": [
       "        track_id  acousticness  danceability   energy  instrumentalness  \\\n",
       "count    4802.00       4802.00       4802.00  4802.00           4802.00   \n",
       "mean    30164.87          0.49          0.44     0.63              0.60   \n",
       "std     28592.01          0.37          0.18     0.24              0.38   \n",
       "min         2.00          0.00          0.05     0.00              0.00   \n",
       "25%      7494.25          0.08          0.30     0.45              0.16   \n",
       "50%     20723.50          0.52          0.42     0.65              0.81   \n",
       "75%     44240.75          0.86          0.57     0.84              0.92   \n",
       "max    124722.00          1.00          0.96     1.00              0.99   \n",
       "\n",
       "       liveness  speechiness    tempo  valence  \n",
       "count   4802.00      4802.00  4802.00  4802.00  \n",
       "mean       0.19         0.10   126.69     0.45  \n",
       "std        0.15         0.15    34.00     0.27  \n",
       "min        0.03         0.02    29.09     0.01  \n",
       "25%        0.10         0.04    98.00     0.22  \n",
       "50%        0.12         0.05   124.63     0.45  \n",
       "75%        0.22         0.09   151.45     0.67  \n",
       "max        0.97         0.97   250.06     0.98  "
      ]
     },
     "execution_count": 4,
     "metadata": {},
     "output_type": "execute_result"
    }
   ],
   "source": [
    "# get a quick statistical summary\n",
    "echo_tracks.describe().round(2)"
   ]
  },
  {
   "cell_type": "markdown",
   "metadata": {},
   "source": [
    "### Check for missing values\n",
    "\n",
    "Let us check the dataframe for any missing values."
   ]
  },
  {
   "cell_type": "code",
   "execution_count": 5,
   "metadata": {},
   "outputs": [
    {
     "data": {
      "text/plain": [
       "False"
      ]
     },
     "execution_count": 5,
     "metadata": {},
     "output_type": "execute_result"
    }
   ],
   "source": [
    "# any missing values?\n",
    "echo_tracks.isnull().values.any()"
   ]
  },
  {
   "cell_type": "markdown",
   "metadata": {},
   "source": [
    "### Inspect the target variable"
   ]
  },
  {
   "cell_type": "code",
   "execution_count": 6,
   "metadata": {},
   "outputs": [
    {
     "name": "stdout",
     "output_type": "stream",
     "text": [
      "Rock       3892\n",
      "Hip-Hop     910\n",
      "Name: genre_top, dtype: int64\n"
     ]
    },
    {
     "data": {
      "image/png": "[encoded data removed]",
      "text/plain": [
       "<Figure size 432x288 with 1 Axes>"
      ]
     },
     "metadata": {
      "needs_background": "light"
     },
     "output_type": "display_data"
    }
   ],
   "source": [
    "# inspect 'genre_top'\n",
    "print(echo_tracks['genre_top'].value_counts())\n",
    "\n",
    "sns.countplot(x=echo_tracks['genre_top'], data=echo_tracks )\n",
    "plt.show()"
   ]
  },
  {
   "cell_type": "markdown",
   "metadata": {},
   "source": [
    "So, we have an imbalanced data set, with 'Rock' class being the majority class and 'Hip-Hop' the minory class. Although, the data is not highly imbalanced, we will apply sampling techniques to our data to balance the dataset and check compare the performances of our algorithms."
   ]
  },
  {
   "cell_type": "markdown",
   "metadata": {},
   "source": [
    "## Data Preprocessing\n",
    "\n",
    "We start by checking the correlation of continuous features. \n",
    "\n",
    "### Correlation matrix"
   ]
  },
  {
   "cell_type": "code",
   "execution_count": 7,
   "metadata": {
    "dc": {
     "key": "10"
    },
    "scrolled": true,
    "tags": [
     "sample_code"
    ]
   },
   "outputs": [
    {
     "data": {
      "text/html": [
       "<style  type=\"text/css\" >\n",
       "#T_33eba_row0_col0,#T_33eba_row1_col1,#T_33eba_row2_col2,#T_33eba_row3_col3,#T_33eba_row4_col4,#T_33eba_row5_col5,#T_33eba_row6_col6,#T_33eba_row7_col7,#T_33eba_row8_col8{\n",
       "            background-color:  #023858;\n",
       "            color:  #f1f1f1;\n",
       "        }#T_33eba_row0_col1,#T_33eba_row1_col0,#T_33eba_row1_col3,#T_33eba_row2_col5,#T_33eba_row2_col7,#T_33eba_row4_col2,#T_33eba_row4_col6,#T_33eba_row4_col8,#T_33eba_row6_col4{\n",
       "            background-color:  #fff7fb;\n",
       "            color:  #000000;\n",
       "        }#T_33eba_row0_col2{\n",
       "            background-color:  #d2d2e7;\n",
       "            color:  #000000;\n",
       "        }#T_33eba_row0_col3{\n",
       "            background-color:  #b5c4df;\n",
       "            color:  #000000;\n",
       "        }#T_33eba_row0_col4{\n",
       "            background-color:  #f5eef6;\n",
       "            color:  #000000;\n",
       "        }#T_33eba_row0_col5{\n",
       "            background-color:  #e9e5f1;\n",
       "            color:  #000000;\n",
       "        }#T_33eba_row0_col6,#T_33eba_row8_col3{\n",
       "            background-color:  #d1d2e6;\n",
       "            color:  #000000;\n",
       "        }#T_33eba_row0_col7,#T_33eba_row1_col7{\n",
       "            background-color:  #e1dfed;\n",
       "            color:  #000000;\n",
       "        }#T_33eba_row0_col8,#T_33eba_row3_col6{\n",
       "            background-color:  #dedcec;\n",
       "            color:  #000000;\n",
       "        }#T_33eba_row1_col2{\n",
       "            background-color:  #e0dded;\n",
       "            color:  #000000;\n",
       "        }#T_33eba_row1_col4,#T_33eba_row4_col1{\n",
       "            background-color:  #97b7d7;\n",
       "            color:  #000000;\n",
       "        }#T_33eba_row1_col5,#T_33eba_row2_col4{\n",
       "            background-color:  #f3edf5;\n",
       "            color:  #000000;\n",
       "        }#T_33eba_row1_col6,#T_33eba_row6_col1{\n",
       "            background-color:  #b8c6e0;\n",
       "            color:  #000000;\n",
       "        }#T_33eba_row1_col8{\n",
       "            background-color:  #e2dfee;\n",
       "            color:  #000000;\n",
       "        }#T_33eba_row2_col0,#T_33eba_row5_col0,#T_33eba_row5_col3{\n",
       "            background-color:  #bdc8e1;\n",
       "            color:  #000000;\n",
       "        }#T_33eba_row2_col1,#T_33eba_row6_col0,#T_33eba_row7_col0,#T_33eba_row7_col1{\n",
       "            background-color:  #d0d1e6;\n",
       "            color:  #000000;\n",
       "        }#T_33eba_row2_col3{\n",
       "            background-color:  #fbf3f9;\n",
       "            color:  #000000;\n",
       "        }#T_33eba_row2_col6{\n",
       "            background-color:  #80aed2;\n",
       "            color:  #000000;\n",
       "        }#T_33eba_row2_col8{\n",
       "            background-color:  #529bc7;\n",
       "            color:  #000000;\n",
       "        }#T_33eba_row3_col0,#T_33eba_row7_col3{\n",
       "            background-color:  #a7bddb;\n",
       "            color:  #000000;\n",
       "        }#T_33eba_row3_col1{\n",
       "            background-color:  #f5eff6;\n",
       "            color:  #000000;\n",
       "        }#T_33eba_row3_col2,#T_33eba_row7_col2{\n",
       "            background-color:  #fef6fa;\n",
       "            color:  #000000;\n",
       "        }#T_33eba_row3_col4{\n",
       "            background-color:  #c4cbe3;\n",
       "            color:  #000000;\n",
       "        }#T_33eba_row3_col5,#T_33eba_row5_col7{\n",
       "            background-color:  #dcdaeb;\n",
       "            color:  #000000;\n",
       "        }#T_33eba_row3_col7{\n",
       "            background-color:  #adc1dd;\n",
       "            color:  #000000;\n",
       "        }#T_33eba_row3_col8,#T_33eba_row4_col7{\n",
       "            background-color:  #d9d8ea;\n",
       "            color:  #000000;\n",
       "        }#T_33eba_row4_col0{\n",
       "            background-color:  #f4eef6;\n",
       "            color:  #000000;\n",
       "        }#T_33eba_row4_col3{\n",
       "            background-color:  #d2d3e7;\n",
       "            color:  #000000;\n",
       "        }#T_33eba_row4_col5{\n",
       "            background-color:  #fdf5fa;\n",
       "            color:  #000000;\n",
       "        }#T_33eba_row5_col1{\n",
       "            background-color:  #ced0e6;\n",
       "            color:  #000000;\n",
       "        }#T_33eba_row5_col2{\n",
       "            background-color:  #ede8f3;\n",
       "            color:  #000000;\n",
       "        }#T_33eba_row5_col4,#T_33eba_row6_col7{\n",
       "            background-color:  #dbdaeb;\n",
       "            color:  #000000;\n",
       "        }#T_33eba_row5_col6{\n",
       "            background-color:  #c0c9e2;\n",
       "            color:  #000000;\n",
       "        }#T_33eba_row5_col8{\n",
       "            background-color:  #e8e4f0;\n",
       "            color:  #000000;\n",
       "        }#T_33eba_row6_col2{\n",
       "            background-color:  #93b5d6;\n",
       "            color:  #000000;\n",
       "        }#T_33eba_row6_col3,#T_33eba_row6_col5{\n",
       "            background-color:  #eae6f1;\n",
       "            color:  #000000;\n",
       "        }#T_33eba_row6_col8{\n",
       "            background-color:  #bfc9e1;\n",
       "            color:  #000000;\n",
       "        }#T_33eba_row7_col4{\n",
       "            background-color:  #c5cce3;\n",
       "            color:  #000000;\n",
       "        }#T_33eba_row7_col5{\n",
       "            background-color:  #f0eaf4;\n",
       "            color:  #000000;\n",
       "        }#T_33eba_row7_col6{\n",
       "            background-color:  #c8cde4;\n",
       "            color:  #000000;\n",
       "        }#T_33eba_row7_col8{\n",
       "            background-color:  #d6d6e9;\n",
       "            color:  #000000;\n",
       "        }#T_33eba_row8_col0{\n",
       "            background-color:  #c6cce3;\n",
       "            color:  #000000;\n",
       "        }#T_33eba_row8_col1{\n",
       "            background-color:  #cdd0e5;\n",
       "            color:  #000000;\n",
       "        }#T_33eba_row8_col2{\n",
       "            background-color:  #4c99c5;\n",
       "            color:  #000000;\n",
       "        }#T_33eba_row8_col4{\n",
       "            background-color:  #efe9f3;\n",
       "            color:  #000000;\n",
       "        }#T_33eba_row8_col5{\n",
       "            background-color:  #f7f0f7;\n",
       "            color:  #000000;\n",
       "        }#T_33eba_row8_col6{\n",
       "            background-color:  #a5bddb;\n",
       "            color:  #000000;\n",
       "        }#T_33eba_row8_col7{\n",
       "            background-color:  #d3d4e7;\n",
       "            color:  #000000;\n",
       "        }</style><table id=\"T_33eba_\" ><thead>    <tr>        <th class=\"blank level0\" ></th>        <th class=\"col_heading level0 col0\" >track_id</th>        <th class=\"col_heading level0 col1\" >acousticness</th>        <th class=\"col_heading level0 col2\" >danceability</th>        <th class=\"col_heading level0 col3\" >energy</th>        <th class=\"col_heading level0 col4\" >instrumentalness</th>        <th class=\"col_heading level0 col5\" >liveness</th>        <th class=\"col_heading level0 col6\" >speechiness</th>        <th class=\"col_heading level0 col7\" >tempo</th>        <th class=\"col_heading level0 col8\" >valence</th>    </tr></thead><tbody>\n",
       "                <tr>\n",
       "                        <th id=\"T_33eba_level0_row0\" class=\"row_heading level0 row0\" >track_id</th>\n",
       "                        <td id=\"T_33eba_row0_col0\" class=\"data row0 col0\" >1.00</td>\n",
       "                        <td id=\"T_33eba_row0_col1\" class=\"data row0 col1\" >-0.37</td>\n",
       "                        <td id=\"T_33eba_row0_col2\" class=\"data row0 col2\" >0.05</td>\n",
       "                        <td id=\"T_33eba_row0_col3\" class=\"data row0 col3\" >0.14</td>\n",
       "                        <td id=\"T_33eba_row0_col4\" class=\"data row0 col4\" >-0.28</td>\n",
       "                        <td id=\"T_33eba_row0_col5\" class=\"data row0 col5\" >0.05</td>\n",
       "                        <td id=\"T_33eba_row0_col6\" class=\"data row0 col6\" >-0.03</td>\n",
       "                        <td id=\"T_33eba_row0_col7\" class=\"data row0 col7\" >-0.03</td>\n",
       "                        <td id=\"T_33eba_row0_col8\" class=\"data row0 col8\" >0.01</td>\n",
       "            </tr>\n",
       "            <tr>\n",
       "                        <th id=\"T_33eba_level0_row1\" class=\"row_heading level0 row1\" >acousticness</th>\n",
       "                        <td id=\"T_33eba_row1_col0\" class=\"data row1 col0\" >-0.37</td>\n",
       "                        <td id=\"T_33eba_row1_col1\" class=\"data row1 col1\" >1.00</td>\n",
       "                        <td id=\"T_33eba_row1_col2\" class=\"data row1 col2\" >-0.03</td>\n",
       "                        <td id=\"T_33eba_row1_col3\" class=\"data row1 col3\" >-0.28</td>\n",
       "                        <td id=\"T_33eba_row1_col4\" class=\"data row1 col4\" >0.19</td>\n",
       "                        <td id=\"T_33eba_row1_col5\" class=\"data row1 col5\" >-0.02</td>\n",
       "                        <td id=\"T_33eba_row1_col6\" class=\"data row1 col6\" >0.07</td>\n",
       "                        <td id=\"T_33eba_row1_col7\" class=\"data row1 col7\" >-0.03</td>\n",
       "                        <td id=\"T_33eba_row1_col8\" class=\"data row1 col8\" >-0.01</td>\n",
       "            </tr>\n",
       "            <tr>\n",
       "                        <th id=\"T_33eba_level0_row2\" class=\"row_heading level0 row2\" >danceability</th>\n",
       "                        <td id=\"T_33eba_row2_col0\" class=\"data row2 col0\" >0.05</td>\n",
       "                        <td id=\"T_33eba_row2_col1\" class=\"data row2 col1\" >-0.03</td>\n",
       "                        <td id=\"T_33eba_row2_col2\" class=\"data row2 col2\" >1.00</td>\n",
       "                        <td id=\"T_33eba_row2_col3\" class=\"data row2 col3\" >-0.24</td>\n",
       "                        <td id=\"T_33eba_row2_col4\" class=\"data row2 col4\" >-0.26</td>\n",
       "                        <td id=\"T_33eba_row2_col5\" class=\"data row2 col5\" >-0.11</td>\n",
       "                        <td id=\"T_33eba_row2_col6\" class=\"data row2 col6\" >0.28</td>\n",
       "                        <td id=\"T_33eba_row2_col7\" class=\"data row2 col7\" >-0.24</td>\n",
       "                        <td id=\"T_33eba_row2_col8\" class=\"data row2 col8\" >0.47</td>\n",
       "            </tr>\n",
       "            <tr>\n",
       "                        <th id=\"T_33eba_level0_row3\" class=\"row_heading level0 row3\" >energy</th>\n",
       "                        <td id=\"T_33eba_row3_col0\" class=\"data row3 col0\" >0.14</td>\n",
       "                        <td id=\"T_33eba_row3_col1\" class=\"data row3 col1\" >-0.28</td>\n",
       "                        <td id=\"T_33eba_row3_col2\" class=\"data row3 col2\" >-0.24</td>\n",
       "                        <td id=\"T_33eba_row3_col3\" class=\"data row3 col3\" >1.00</td>\n",
       "                        <td id=\"T_33eba_row3_col4\" class=\"data row3 col4\" >0.03</td>\n",
       "                        <td id=\"T_33eba_row3_col5\" class=\"data row3 col5\" >0.11</td>\n",
       "                        <td id=\"T_33eba_row3_col6\" class=\"data row3 col6\" >-0.11</td>\n",
       "                        <td id=\"T_33eba_row3_col7\" class=\"data row3 col7\" >0.20</td>\n",
       "                        <td id=\"T_33eba_row3_col8\" class=\"data row3 col8\" >0.04</td>\n",
       "            </tr>\n",
       "            <tr>\n",
       "                        <th id=\"T_33eba_level0_row4\" class=\"row_heading level0 row4\" >instrumentalness</th>\n",
       "                        <td id=\"T_33eba_row4_col0\" class=\"data row4 col0\" >-0.28</td>\n",
       "                        <td id=\"T_33eba_row4_col1\" class=\"data row4 col1\" >0.19</td>\n",
       "                        <td id=\"T_33eba_row4_col2\" class=\"data row4 col2\" >-0.26</td>\n",
       "                        <td id=\"T_33eba_row4_col3\" class=\"data row4 col3\" >0.03</td>\n",
       "                        <td id=\"T_33eba_row4_col4\" class=\"data row4 col4\" >1.00</td>\n",
       "                        <td id=\"T_33eba_row4_col5\" class=\"data row4 col5\" >-0.09</td>\n",
       "                        <td id=\"T_33eba_row4_col6\" class=\"data row4 col6\" >-0.37</td>\n",
       "                        <td id=\"T_33eba_row4_col7\" class=\"data row4 col7\" >0.02</td>\n",
       "                        <td id=\"T_33eba_row4_col8\" class=\"data row4 col8\" >-0.22</td>\n",
       "            </tr>\n",
       "            <tr>\n",
       "                        <th id=\"T_33eba_level0_row5\" class=\"row_heading level0 row5\" >liveness</th>\n",
       "                        <td id=\"T_33eba_row5_col0\" class=\"data row5 col0\" >0.05</td>\n",
       "                        <td id=\"T_33eba_row5_col1\" class=\"data row5 col1\" >-0.02</td>\n",
       "                        <td id=\"T_33eba_row5_col2\" class=\"data row5 col2\" >-0.11</td>\n",
       "                        <td id=\"T_33eba_row5_col3\" class=\"data row5 col3\" >0.11</td>\n",
       "                        <td id=\"T_33eba_row5_col4\" class=\"data row5 col4\" >-0.09</td>\n",
       "                        <td id=\"T_33eba_row5_col5\" class=\"data row5 col5\" >1.00</td>\n",
       "                        <td id=\"T_33eba_row5_col6\" class=\"data row5 col6\" >0.04</td>\n",
       "                        <td id=\"T_33eba_row5_col7\" class=\"data row5 col7\" >0.00</td>\n",
       "                        <td id=\"T_33eba_row5_col8\" class=\"data row5 col8\" >-0.05</td>\n",
       "            </tr>\n",
       "            <tr>\n",
       "                        <th id=\"T_33eba_level0_row6\" class=\"row_heading level0 row6\" >speechiness</th>\n",
       "                        <td id=\"T_33eba_row6_col0\" class=\"data row6 col0\" >-0.03</td>\n",
       "                        <td id=\"T_33eba_row6_col1\" class=\"data row6 col1\" >0.07</td>\n",
       "                        <td id=\"T_33eba_row6_col2\" class=\"data row6 col2\" >0.28</td>\n",
       "                        <td id=\"T_33eba_row6_col3\" class=\"data row6 col3\" >-0.11</td>\n",
       "                        <td id=\"T_33eba_row6_col4\" class=\"data row6 col4\" >-0.37</td>\n",
       "                        <td id=\"T_33eba_row6_col5\" class=\"data row6 col5\" >0.04</td>\n",
       "                        <td id=\"T_33eba_row6_col6\" class=\"data row6 col6\" >1.00</td>\n",
       "                        <td id=\"T_33eba_row6_col7\" class=\"data row6 col7\" >0.01</td>\n",
       "                        <td id=\"T_33eba_row6_col8\" class=\"data row6 col8\" >0.15</td>\n",
       "            </tr>\n",
       "            <tr>\n",
       "                        <th id=\"T_33eba_level0_row7\" class=\"row_heading level0 row7\" >tempo</th>\n",
       "                        <td id=\"T_33eba_row7_col0\" class=\"data row7 col0\" >-0.03</td>\n",
       "                        <td id=\"T_33eba_row7_col1\" class=\"data row7 col1\" >-0.03</td>\n",
       "                        <td id=\"T_33eba_row7_col2\" class=\"data row7 col2\" >-0.24</td>\n",
       "                        <td id=\"T_33eba_row7_col3\" class=\"data row7 col3\" >0.20</td>\n",
       "                        <td id=\"T_33eba_row7_col4\" class=\"data row7 col4\" >0.02</td>\n",
       "                        <td id=\"T_33eba_row7_col5\" class=\"data row7 col5\" >0.00</td>\n",
       "                        <td id=\"T_33eba_row7_col6\" class=\"data row7 col6\" >0.01</td>\n",
       "                        <td id=\"T_33eba_row7_col7\" class=\"data row7 col7\" >1.00</td>\n",
       "                        <td id=\"T_33eba_row7_col8\" class=\"data row7 col8\" >0.05</td>\n",
       "            </tr>\n",
       "            <tr>\n",
       "                        <th id=\"T_33eba_level0_row8\" class=\"row_heading level0 row8\" >valence</th>\n",
       "                        <td id=\"T_33eba_row8_col0\" class=\"data row8 col0\" >0.01</td>\n",
       "                        <td id=\"T_33eba_row8_col1\" class=\"data row8 col1\" >-0.01</td>\n",
       "                        <td id=\"T_33eba_row8_col2\" class=\"data row8 col2\" >0.47</td>\n",
       "                        <td id=\"T_33eba_row8_col3\" class=\"data row8 col3\" >0.04</td>\n",
       "                        <td id=\"T_33eba_row8_col4\" class=\"data row8 col4\" >-0.22</td>\n",
       "                        <td id=\"T_33eba_row8_col5\" class=\"data row8 col5\" >-0.05</td>\n",
       "                        <td id=\"T_33eba_row8_col6\" class=\"data row8 col6\" >0.15</td>\n",
       "                        <td id=\"T_33eba_row8_col7\" class=\"data row8 col7\" >0.05</td>\n",
       "                        <td id=\"T_33eba_row8_col8\" class=\"data row8 col8\" >1.00</td>\n",
       "            </tr>\n",
       "    </tbody></table>"
      ],
      "text/plain": [
       "<pandas.io.formats.style.Styler at 0x1cf22ab00d0>"
      ]
     },
     "execution_count": 7,
     "metadata": {},
     "output_type": "execute_result"
    }
   ],
   "source": [
    "# Create a correlation matrix\n",
    "corr_metrics = echo_tracks.corr()\n",
    "corr_metrics.style.format(\"{:.2f}\").background_gradient()"
   ]
  },
  {
   "cell_type": "markdown",
   "metadata": {},
   "source": [
    "As we can see, there is no pair of highly correlated variables and we do not need to worry about multicolinearity effects. "
   ]
  },
  {
   "cell_type": "markdown",
   "metadata": {
    "dc": {
     "key": "38"
    },
    "run_control": {
     "frozen": false
    },
    "tags": [
     "context"
    ]
   },
   "source": [
    "## Modeling\n",
    "\n",
    "To begin with modelling, we first apply a few classifiers (with default hyperparameters) to our data and evaluate the performance of predictions. Then we balance our data using sampling techniques and select the best performing model.\n",
    "\n",
    "**Remark on evaluation metric:** Usually, `accuracy score` is not a suitable measure of performance for (highly) imbalanced data. Although our data is not highly imbalanced and accuracy may not be a bad evaluation metric, we rely on `f1-score` and `roc-auc` for evaluating the performance of our algorithms. \n",
    "\n",
    "Let us first split our data and make a list of algorithms."
   ]
  },
  {
   "cell_type": "markdown",
   "metadata": {},
   "source": [
    "### Split data to train and test sets"
   ]
  },
  {
   "cell_type": "code",
   "execution_count": 8,
   "metadata": {},
   "outputs": [
    {
     "name": "stdout",
     "output_type": "stream",
     "text": [
      "Train Shape: (3841, 8) \n",
      "Test Shape: (961, 8)\n"
     ]
    }
   ],
   "source": [
    "# isolate features and the target\n",
    "X = echo_tracks.drop(['track_id','genre_top'], axis = 1)\n",
    "y = echo_tracks.loc[:, 'genre_top']\n",
    "\n",
    "# split to train and test sets\n",
    "X_train, X_test, y_train, y_test = train_test_split(\n",
    "            X, y, test_size = 0.2, random_state = 1)\n",
    "\n",
    "print(\"Train Shape:\", X_train.shape, \n",
    "      \"\\nTest Shape:\", X_test.shape)"
   ]
  },
  {
   "cell_type": "markdown",
   "metadata": {},
   "source": [
    "### Make a list of algorithms for modeling"
   ]
  },
  {
   "cell_type": "code",
   "execution_count": 9,
   "metadata": {},
   "outputs": [],
   "source": [
    "# make a list of models with default hyperparameters\n",
    "models = [\n",
    "    # LogisticRegegression\n",
    "    LogisticRegression(random_state=1),         \n",
    "    # DecissionTree\n",
    "    DecisionTreeClassifier(random_state=1),  \n",
    "    # RandomForest \n",
    "    RandomForestClassifier(random_state=1),   \n",
    "    # KNN\n",
    "    KNeighborsClassifier(),  \n",
    "    # Support Vector Machine\n",
    "    SVC(),   \n",
    "    # GradientBoosting\n",
    "    GradientBoostingClassifier(random_state=1)  \n",
    "         ]"
   ]
  },
  {
   "cell_type": "markdown",
   "metadata": {},
   "source": [
    "### Modeling with imbalanced data"
   ]
  },
  {
   "cell_type": "code",
   "execution_count": 10,
   "metadata": {},
   "outputs": [],
   "source": [
    "# define a function that makes a \n",
    "# pipeline for a given model\n",
    "def imb_pipeline(model):\n",
    "    steps = [('scaler', StandardScaler()),\n",
    "             ('clf', model)\n",
    "            ]\n",
    "    pipeline = Pipeline(steps=steps)\n",
    "    return pipeline"
   ]
  },
  {
   "cell_type": "markdown",
   "metadata": {},
   "source": [
    "Let us compare the performance of our algorithms with imbalanced data and the default hyperparameter values."
   ]
  },
  {
   "cell_type": "code",
   "execution_count": 11,
   "metadata": {},
   "outputs": [
    {
     "name": "stdout",
     "output_type": "stream",
     "text": [
      "LogisticRegression \n",
      "               precision    recall  f1-score   support\n",
      "\n",
      "     Hip-Hop     0.8652    0.5810    0.6952       210\n",
      "        Rock     0.8927    0.9747    0.9319       751\n",
      "\n",
      "    accuracy                         0.8887       961\n",
      "   macro avg     0.8790    0.7778    0.8135       961\n",
      "weighted avg     0.8867    0.8887    0.8802       961\n",
      "\n",
      "----------\n",
      "DecisionTreeClassifier \n",
      "               precision    recall  f1-score   support\n",
      "\n",
      "     Hip-Hop     0.7650    0.7286    0.7463       210\n",
      "        Rock     0.9251    0.9374    0.9312       751\n",
      "\n",
      "    accuracy                         0.8918       961\n",
      "   macro avg     0.8450    0.8330    0.8388       961\n",
      "weighted avg     0.8901    0.8918    0.8908       961\n",
      "\n",
      "----------\n",
      "RandomForestClassifier \n",
      "               precision    recall  f1-score   support\n",
      "\n",
      "     Hip-Hop     0.8876    0.7524    0.8144       210\n",
      "        Rock     0.9336    0.9734    0.9531       751\n",
      "\n",
      "    accuracy                         0.9251       961\n",
      "   macro avg     0.9106    0.8629    0.8837       961\n",
      "weighted avg     0.9235    0.9251    0.9228       961\n",
      "\n",
      "----------\n",
      "KNeighborsClassifier \n",
      "               precision    recall  f1-score   support\n",
      "\n",
      "     Hip-Hop     0.8512    0.6810    0.7566       210\n",
      "        Rock     0.9155    0.9667    0.9404       751\n",
      "\n",
      "    accuracy                         0.9043       961\n",
      "   macro avg     0.8834    0.8238    0.8485       961\n",
      "weighted avg     0.9015    0.9043    0.9002       961\n",
      "\n",
      "----------\n",
      "SVC \n",
      "               precision    recall  f1-score   support\n",
      "\n",
      "     Hip-Hop     0.9053    0.7286    0.8074       210\n",
      "        Rock     0.9280    0.9787    0.9527       751\n",
      "\n",
      "    accuracy                         0.9240       961\n",
      "   macro avg     0.9167    0.8536    0.8800       961\n",
      "weighted avg     0.9231    0.9240    0.9209       961\n",
      "\n",
      "----------\n",
      "GradientBoostingClassifier \n",
      "               precision    recall  f1-score   support\n",
      "\n",
      "     Hip-Hop     0.8785    0.7571    0.8133       210\n",
      "        Rock     0.9346    0.9707    0.9523       751\n",
      "\n",
      "    accuracy                         0.9240       961\n",
      "   macro avg     0.9065    0.8639    0.8828       961\n",
      "weighted avg     0.9223    0.9240    0.9219       961\n",
      "\n",
      "----------\n"
     ]
    }
   ],
   "source": [
    "for model in models:\n",
    "    pipeline = imb_pipeline(model)\n",
    "    pipeline.fit(X_train, y_train)\n",
    "    pred = pipeline.predict(X_test)\n",
    "    print(type(model).__name__, '\\n', \n",
    "          classification_report(y_test, pred, digits=4))\n",
    "    print(\"-\"*10)"
   ]
  },
  {
   "cell_type": "markdown",
   "metadata": {},
   "source": [
    "While all models perform well, with a weighted `f1-score` of over 88%, looking at our classification reports, we can see some bias towards rock songs. Indeed, our classifiers perform better in classifying rock songs mostly because we have far more data points for rock class with 751 data points than hip-hop with 210. As a result, accuracies in all models are represented by their ability to classify just rock songs, which is not ideal.\n",
    "\n",
    "Because a correct classification for \"Rock\" is not more important than a correct classification for \"Hip-Hop\" and vice versa, we only need to account for differences in _sample size_ of our data points, not relative importance of each class. \n",
    "\n",
    "\n",
    "### Improving the performance\n",
    "\n",
    "We may be able to improve the performance by:\n",
    "\n",
    "- Balancing our data\n",
    "- Tuning hyperparameters of the algorithms\n",
    "\n",
    "We do both in the following. \n",
    "\n",
    "We balance our data by applying two sampling methods from `imblearn` library: \n",
    "\n",
    "- `RandomUnderSampler` (undersample the majority data) \n",
    "- `SMOTE` (oversample the minority data) \n",
    "\n",
    "In each sampling method, we also tune the hyperparameters of our algorithms using `GridSearchCV` with `RepeatedStratifiedKFold` cross-validation. \n",
    "\n",
    "**Remark**: the following limited list of numerical values for hyperparameters have been set after testing a longer list of values. This way we reduce the run time of the following codes.\n"
   ]
  },
  {
   "cell_type": "code",
   "execution_count": 12,
   "metadata": {},
   "outputs": [],
   "source": [
    "# make a list of hyperparameters for the each of the above models\n",
    "parameters = [\n",
    "    {'model__C': [10, 15, 20, 70, 75],\n",
    "     'model__penalty': ['l2'],\n",
    "     'model__solver': ['lbfgs', 'liblinear']\n",
    "    },    # param_LogReg\n",
    "    \n",
    "    {'model__criterion': ['gini', 'entropy'],\n",
    "     'model__max_depth': [3, 4, 5, 6],\n",
    "     'model__splitter': ['best', 'random']\n",
    "    },  # param_Tree\n",
    "\n",
    "    {'model__criterion' :['gini', 'entropy'],\n",
    "     'model__max_depth' : [13, 14, 15],\n",
    "     'model__max_features': ['auto', 'sqrt', 'log2'],\n",
    "     'model__n_estimators': [400]\n",
    "    },  # param_RandomForest\n",
    "    \n",
    "    {'model__algorithm': ['auto'], #, 'ball_tree', 'kd_tree', 'brute'],\n",
    "     'model__metric': ['euclidean', 'manhattan', 'minkowski'],\n",
    "     'model__n_neighbors': range(10, 40),\n",
    "     'model__weights': ['uniform', 'distance']\n",
    "    },   # param_KNN \n",
    "    \n",
    "    {'model__C': [0, 1, 2, 3], \n",
    "     'model__gamma': ['scale', 'auto'],\n",
    "     'model__kernel': ['linear', 'poly', 'rbf', 'sigmoid']\n",
    "    },  # param_SVC\n",
    "    \n",
    "    {'model__learning_rate': [0.085, 0.09, 0.095],\n",
    "     'model__max_depth': [3, 5, 7],       \n",
    "     'model__n_estimators': [400],\n",
    "     'model__subsample': [3.0, 0.5]\n",
    "    }  # param_GradientBoosting\n",
    "      ]"
   ]
  },
  {
   "cell_type": "markdown",
   "metadata": {},
   "source": [
    "### Improving the performance by hyperparameter tuning and undersampling"
   ]
  },
  {
   "cell_type": "code",
   "execution_count": 13,
   "metadata": {},
   "outputs": [],
   "source": [
    "# define a function that makes a \n",
    "# undersampling pipeline for a given model \n",
    "def u_pipeline(model):\n",
    "    under = RandomUnderSampler(\n",
    "            random_state=1, \n",
    "            sampling_strategy='auto'\n",
    "                              )\n",
    "    steps = [('scaler', StandardScaler()),\n",
    "             ('u', under), \n",
    "             ('model', model)\n",
    "            ]\n",
    "    pipeline = Pipeline(steps=steps)\n",
    "    return pipeline"
   ]
  },
  {
   "cell_type": "code",
   "execution_count": 14,
   "metadata": {
    "scrolled": false
   },
   "outputs": [
    {
     "name": "stdout",
     "output_type": "stream",
     "text": [
      "--LogisticRegression \n",
      "Best Mean ROC AUC: 0.9114 \n",
      "with: {'model__C': 15, 'model__penalty': 'l2', 'model__solver': 'liblinear'}\n",
      "--------------------------------------------------\n",
      "--DecisionTreeClassifier \n",
      "Best Mean ROC AUC: 0.9052 \n",
      "with: {'model__criterion': 'entropy', 'model__max_depth': 4, 'model__splitter': 'best'}\n",
      "--------------------------------------------------\n",
      "--RandomForestClassifier \n",
      "Best Mean ROC AUC: 0.9534 \n",
      "with: {'model__criterion': 'entropy', 'model__max_depth': 15, 'model__max_features': 'auto', 'model__n_estimators': 400}\n",
      "--------------------------------------------------\n",
      "--KNeighborsClassifier \n",
      "Best Mean ROC AUC: 0.9362 \n",
      "with: {'model__algorithm': 'auto', 'model__metric': 'manhattan', 'model__n_neighbors': 17, 'model__weights': 'distance'}\n",
      "--------------------------------------------------\n",
      "--SVC \n",
      "Best Mean ROC AUC: 0.9444 \n",
      "with: {'model__C': 2, 'model__gamma': 'scale', 'model__kernel': 'rbf'}\n",
      "--------------------------------------------------\n",
      "--GradientBoostingClassifier \n",
      "Best Mean ROC AUC: 0.9537 \n",
      "with: {'model__learning_rate': 0.085, 'model__max_depth': 7, 'model__n_estimators': 400, 'model__subsample': 0.5}\n",
      "--------------------------------------------------\n",
      "\n",
      "Run time (in minutes): 3.21\n"
     ]
    }
   ],
   "source": [
    "# initialize repeated stratified k-fold cross-validation\n",
    "rkf = RepeatedStratifiedKFold(n_splits=10, \n",
    "                              n_repeats=3, \n",
    "                              random_state=1)\n",
    "\n",
    "# capture start of running time\n",
    "start = time.time()\n",
    "\n",
    "# loop over models and hyperparameters for tuning\n",
    "for model, grid in zip(models, parameters):\n",
    "    # initialize GridSearchCV\n",
    "    grid_search = GridSearchCV(\n",
    "                   # undersampling pipeline\n",
    "                   estimator=u_pipeline(model),\n",
    "                   param_grid=grid,\n",
    "                   n_jobs=-1,\n",
    "                   cv=rkf, \n",
    "                   #scoring='accuracy',\n",
    "                   scoring='roc_auc',\n",
    "                   error_score=0)\n",
    "    # fit GridSearchCV\n",
    "    grid_result = grid_search.fit(X_train, y_train)\n",
    "    \n",
    "    # summarize results\n",
    "    message = \"--{} \\nBest Mean ROC AUC: {:.4f} \\nwith: {}\"\n",
    "    print(message.format(type(model).__name__, \n",
    "                         grid_result.best_score_, \n",
    "                         grid_result.best_params_\n",
    "                         )\n",
    "         )\n",
    "\n",
    "    print('-'*50)\n",
    "\n",
    "# capture end of running time\n",
    "end = time.time()\n",
    "\n",
    "print(\"\\nRun time (in minutes): {:.2f}\".format((end-start)/60))"
   ]
  },
  {
   "cell_type": "markdown",
   "metadata": {},
   "source": [
    "So, `RandomForestClassifier` does a better job of predicting genres, with mean `roc_auc` score of about 0.95. "
   ]
  },
  {
   "cell_type": "markdown",
   "metadata": {},
   "source": [
    "### Improving the performance by hyperparameter tuning and oversampling"
   ]
  },
  {
   "cell_type": "code",
   "execution_count": 15,
   "metadata": {},
   "outputs": [],
   "source": [
    "# define a function that makes a SMOTE\n",
    "# pipeline for a given model \n",
    "def o_pipeline(model):\n",
    "    over = SMOTE(\n",
    "            random_state=1, \n",
    "            sampling_strategy='auto'\n",
    "                )\n",
    "    \n",
    "    steps = [('scaler', StandardScaler()),\n",
    "             ('o', over), \n",
    "             ('model', model)\n",
    "            ]\n",
    "    pipeline = Pipeline(steps=steps)\n",
    "    return pipeline"
   ]
  },
  {
   "cell_type": "code",
   "execution_count": 16,
   "metadata": {},
   "outputs": [
    {
     "name": "stdout",
     "output_type": "stream",
     "text": [
      "--LogisticRegression \n",
      "Best Mean ROC AUC: 0.9114 \n",
      "with: {'model__C': 70, 'model__penalty': 'l2', 'model__solver': 'liblinear'}\n",
      "--------------------------------------------------\n",
      "--DecisionTreeClassifier \n",
      "Best Mean ROC AUC: 0.9120 \n",
      "with: {'model__criterion': 'entropy', 'model__max_depth': 5, 'model__splitter': 'best'}\n",
      "--------------------------------------------------\n",
      "--RandomForestClassifier \n",
      "Best Mean ROC AUC: 0.9569 \n",
      "with: {'model__criterion': 'entropy', 'model__max_depth': 14, 'model__max_features': 'auto', 'model__n_estimators': 400}\n",
      "--------------------------------------------------\n",
      "--KNeighborsClassifier \n",
      "Best Mean ROC AUC: 0.9377 \n",
      "with: {'model__algorithm': 'auto', 'model__metric': 'manhattan', 'model__n_neighbors': 39, 'model__weights': 'distance'}\n",
      "--------------------------------------------------\n",
      "--SVC \n",
      "Best Mean ROC AUC: 0.9449 \n",
      "with: {'model__C': 1, 'model__gamma': 'scale', 'model__kernel': 'rbf'}\n",
      "--------------------------------------------------\n",
      "--GradientBoostingClassifier \n",
      "Best Mean ROC AUC: 0.9546 \n",
      "with: {'model__learning_rate': 0.09, 'model__max_depth': 7, 'model__n_estimators': 400, 'model__subsample': 0.5}\n",
      "--------------------------------------------------\n",
      "\n",
      "Run time (in minutes): 11.32\n"
     ]
    }
   ],
   "source": [
    "# initialize repeated stratified k-fold cross-validation\n",
    "rkf = RepeatedStratifiedKFold(n_splits=10, \n",
    "                              n_repeats=3, \n",
    "                              random_state=1)\n",
    "\n",
    "# capture time for running time\n",
    "start = time.time()\n",
    "\n",
    "# loop over models and hyperparameters for tuning\n",
    "for model, grid in zip(models, parameters):\n",
    "    # initialize GridSearchCV\n",
    "    grid_search = GridSearchCV(\n",
    "                   # oversampling pipeline\n",
    "                   estimator=o_pipeline(model),\n",
    "                   param_grid=grid,\n",
    "                   n_jobs=-1,\n",
    "                   cv=rkf, \n",
    "                   #scoring='accuracy',\n",
    "                   scoring='roc_auc',\n",
    "                   error_score=0)\n",
    "    # fit GridSearchCV\n",
    "    grid_result = grid_search.fit(X_train, y_train)\n",
    "    \n",
    "    # summarize results\n",
    "    message = \"--{} \\nBest Mean ROC AUC: {:.4f} \\nwith: {}\"\n",
    "    print(message.format(type(model).__name__, \n",
    "                         grid_result.best_score_, \n",
    "                         grid_result.best_params_\n",
    "                         )\n",
    "         )\n",
    "\n",
    "    print('-'*50)\n",
    "\n",
    "# capture end of running time\n",
    "end = time.time()\n",
    "\n",
    "print(\"\\nRun time (in minutes): {:.2f}\".format((end-start)/60))"
   ]
  },
  {
   "cell_type": "markdown",
   "metadata": {},
   "source": [
    "Again, `RandomForestClassifier` does a better job of classifying genres. \n",
    "\n",
    "### Model selection\n",
    "\n",
    "Overal, `RandomForestClassifier` and oversampling with `SMOTE` give higher cross-validation score, with the mean ROC AUC score of 0.9569."
   ]
  },
  {
   "cell_type": "code",
   "execution_count": 17,
   "metadata": {},
   "outputs": [],
   "source": [
    "# save the best model\n",
    "best_model = RandomForestClassifier(\n",
    "                criterion='entropy', \n",
    "                max_depth=14,\n",
    "                max_features='auto',\n",
    "                n_estimators=400,\n",
    "                random_state=1)"
   ]
  },
  {
   "cell_type": "code",
   "execution_count": 18,
   "metadata": {
    "dc": {
     "key": "59"
    },
    "scrolled": false,
    "tags": [
     "sample_code"
    ]
   },
   "outputs": [
    {
     "data": {
      "text/plain": [
       "array(['Rock', 'Hip-Hop', 'Rock', 'Rock', 'Hip-Hop'], dtype=object)"
      ]
     },
     "execution_count": 18,
     "metadata": {},
     "output_type": "execute_result"
    }
   ],
   "source": [
    "# get predictions for the\n",
    "# best performing model\n",
    "pipeline = o_pipeline(best_model)\n",
    "pipeline.fit(X_train, y_train)\n",
    "preds = pipeline.predict(X_test)\n",
    "\n",
    "# get predictions\n",
    "preds[0:5]"
   ]
  },
  {
   "cell_type": "markdown",
   "metadata": {},
   "source": [
    "  "
   ]
  },
  {
   "cell_type": "markdown",
   "metadata": {},
   "source": [
    "  "
   ]
  },
  {
   "cell_type": "markdown",
   "metadata": {},
   "source": [
    "  "
   ]
  }
 ],
 "metadata": {
  "kernelspec": {
   "display_name": "Python 3",
   "language": "python",
   "name": "python3"
  },
  "language_info": {
   "codemirror_mode": {
    "name": "ipython",
    "version": 3
   },
   "file_extension": ".py",
   "mimetype": "text/x-python",
   "name": "python",
   "nbconvert_exporter": "python",
   "pygments_lexer": "ipython3",
   "version": "3.8.5"
  }
 },
 "nbformat": 4,
 "nbformat_minor": 2
}
